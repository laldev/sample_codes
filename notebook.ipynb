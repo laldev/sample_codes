{
  "nbformat": 4,
  "nbformat_minor": 0,
  "metadata": {
    "colab": {
      "name": "notebook.ipynb",
      "provenance": [],
      "authorship_tag": "ABX9TyMl1aCWkaoEPUZbRSTgnMjF",
      "include_colab_link": true
    },
    "kernelspec": {
      "name": "python3",
      "display_name": "Python 3"
    },
    "language_info": {
      "name": "python"
    }
  },
  "cells": [
    {
      "cell_type": "markdown",
      "metadata": {
        "id": "view-in-github",
        "colab_type": "text"
      },
      "source": [
        "<a href=\"https://colab.research.google.com/github/laldev/sample_codes/blob/main/notebook.ipynb\" target=\"_parent\"><img src=\"https://colab.research.google.com/assets/colab-badge.svg\" alt=\"Open In Colab\"/></a>"
      ]
    },
    {
      "cell_type": "code",
      "metadata": {
        "id": "YNNysBfcUgXJ"
      },
      "source": [
        "!pip install gtsam\n",
        "!pip install requests"
      ],
      "execution_count": null,
      "outputs": []
    },
    {
      "cell_type": "code",
      "metadata": {
        "id": "GmSdJ0XkX-ni"
      },
      "source": [
        "# Importing required files from github\n",
        "# Thanks to https://changhsinlee.com/colab-import-python/\n",
        "import requests\n",
        "url = \"https://raw.githubusercontent.com/laldev/sample_codes/main/functions.py\"\n",
        "r = requests.get(url)\n",
        "with open('functions.py', 'w') as f:\n",
        "    f.write(r.text)"
      ],
      "execution_count": 7,
      "outputs": []
    }
  ]
}